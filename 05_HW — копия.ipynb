{
 "cells": [
  {
   "cell_type": "markdown",
   "metadata": {},
   "source": [
    "## 1. Написать цикл для вывода списка чисел от 100 до 50 включительно."
   ]
  },
  {
   "cell_type": "code",
   "execution_count": 25,
   "metadata": {},
   "outputs": [
    {
     "name": "stdout",
     "output_type": "stream",
     "text": [
      "100\n",
      "99\n",
      "98\n",
      "97\n",
      "96\n",
      "95\n",
      "94\n",
      "93\n",
      "92\n",
      "91\n",
      "90\n",
      "89\n",
      "88\n",
      "87\n",
      "86\n",
      "85\n",
      "84\n",
      "83\n",
      "82\n",
      "81\n",
      "80\n",
      "79\n",
      "78\n",
      "77\n",
      "76\n",
      "75\n",
      "74\n",
      "73\n",
      "72\n",
      "71\n",
      "70\n",
      "69\n",
      "68\n",
      "67\n",
      "66\n",
      "65\n",
      "64\n",
      "63\n",
      "62\n",
      "61\n",
      "60\n",
      "59\n",
      "58\n",
      "57\n",
      "56\n",
      "55\n",
      "54\n",
      "53\n",
      "52\n",
      "51\n",
      "50\n"
     ]
    }
   ],
   "source": [
    "for i in range(100, 49, -1):\n",
    "    print(i)"
   ]
  },
  {
   "cell_type": "markdown",
   "metadata": {},
   "source": [
    "## 2. На вход принимается целое положительное число n. Нарисовать рисунок по образцу с указанным количеством строк n.\n",
    "\n",
    "\n",
    "n = 5\n",
    "```\n",
    "* \n",
    "* * \n",
    "* * * \n",
    "* * * * \n",
    "* * * * *\n",
    "```"
   ]
  },
  {
   "cell_type": "code",
   "execution_count": 27,
   "metadata": {},
   "outputs": [
    {
     "name": "stdout",
     "output_type": "stream",
     "text": [
      "5\n",
      "*\n",
      "* *\n",
      "* * *\n",
      "* * * *\n",
      "* * * * *\n"
     ]
    }
   ],
   "source": [
    "a = int(input())\n",
    "if a > 0:\n",
    "    count = '*'\n",
    "    for i in range(a):\n",
    "        print(count)\n",
    "        count += \" *\"\n",
    "else:\n",
    "    print('Только положительное число!!!')"
   ]
  },
  {
   "cell_type": "markdown",
   "metadata": {},
   "source": [
    "## 3. Что делает нижеуказанный код? Перепишите её с использованием цикла `for`"
   ]
  },
  {
   "cell_type": "code",
   "execution_count": 1,
   "metadata": {},
   "outputs": [
    {
     "name": "stdout",
     "output_type": "stream",
     "text": [
      "162\n"
     ]
    }
   ],
   "source": [
    "n = 10\n",
    "s = 1\n",
    "while n > 0:\n",
    "    if n % 3 == 0:\n",
    "        s *= n\n",
    "    \n",
    "    n -= 1\n",
    "\n",
    "print(s)"
   ]
  },
  {
   "cell_type": "markdown",
   "metadata": {},
   "source": [
    "## 4. Посчитать сумму числового ряда от 0 до 14 включительно.\n",
    "Например, 0+1+2+3+…+14"
   ]
  },
  {
   "cell_type": "code",
   "execution_count": 17,
   "metadata": {},
   "outputs": [
    {
     "name": "stdout",
     "output_type": "stream",
     "text": [
      "Введите число: 14\n",
      "105\n"
     ]
    }
   ],
   "source": [
    "n = int(input('Введите число: '))\n",
    "f = 0\n",
    "for i in range(f,n+1):\n",
    "    f=f+i\n",
    "print(f)"
   ]
  },
  {
   "cell_type": "markdown",
   "metadata": {},
   "source": [
    "## 5. Посчитать сумму `четных чисел` числового ряда от 0 до 14 включительно.\n",
    "Например, 2+4+…+14"
   ]
  },
  {
   "cell_type": "code",
   "execution_count": 20,
   "metadata": {},
   "outputs": [
    {
     "name": "stdout",
     "output_type": "stream",
     "text": [
      "Введите число: 14\n",
      "56\n"
     ]
    }
   ],
   "source": [
    "n = int(input('Введите число: '))\n",
    "f = 0\n",
    "for i in range(2,n+1,2):\n",
    "        f=f+i\n",
    "print(f)"
   ]
  },
  {
   "cell_type": "markdown",
   "metadata": {},
   "source": [
    "## 6. Факториал числа.\n",
    "\n",
    "\n",
    "По данному целому неотрицательному n вычислите значение n!.\n",
    "\n",
    "`Примеры`\n",
    "\n",
    "`входные данные`\n",
    "\n",
    "`3`\n",
    "\n",
    "`выходные данные`\n",
    "\n",
    "`6`\n",
    "\n",
    "Факториал числа 3: `1 * 2 * 3 = 6`"
   ]
  },
  {
   "cell_type": "code",
   "execution_count": 13,
   "metadata": {},
   "outputs": [
    {
     "name": "stdout",
     "output_type": "stream",
     "text": [
      "Введите число: 3\n",
      "6\n"
     ]
    }
   ],
   "source": [
    "n = int(input('Введите число: '))\n",
    "f = 1\n",
    "for i in range(1,n+1):\n",
    "    f=f*i\n",
    "print(f)\n",
    "if n < 0:\n",
    "    print('Только положительные числа')"
   ]
  },
  {
   "cell_type": "markdown",
   "metadata": {},
   "source": [
    "## 7. Четные числа.\n",
    "\n",
    "\n",
    "По данным двум натуральным числам A и B (A≤B) выведите все чётные числа на отрезке от A до B. В этой задаче нельзя использовать инструкцию if.\n",
    "\n",
    "`Примеры`\n",
    "\n",
    "`входные данные`\n",
    "\n",
    "`1`\n",
    "\n",
    "`10`\n",
    "\n",
    "`выходные данные`\n",
    "\n",
    "`2 4 6 8 10`"
   ]
  },
  {
   "cell_type": "code",
   "execution_count": 5,
   "metadata": {},
   "outputs": [
    {
     "name": "stdout",
     "output_type": "stream",
     "text": [
      "1\n",
      "10\n",
      "2 4 6 8 10 "
     ]
    }
   ],
   "source": [
    "a = int(input())\n",
    "b = int(input())\n",
    "for i in range(a,b+1):\n",
    "    if i % 2 == 0:\n",
    "        print(i, end =' ')"
   ]
  },
  {
   "cell_type": "markdown",
   "metadata": {},
   "source": [
    "## 8. Сумма цифр числа\n",
    "\n",
    "\n",
    "Прочитайте строку состоящую из цифр (как строку, а не число). Посчитайте сумму всех чисел в списке.\n",
    "\n",
    "`Примеры`\n",
    "\n",
    "`входные данные`\n",
    "\n",
    "`1234`\n",
    "\n",
    "`выходные данные`\n",
    "\n",
    "`10`\n",
    "\n",
    "(1 + 2 + 3 + 4 = 10)\n",
    "\n",
    "Подсказка: Пробежитесь по **строке** в цикле for и суммируйте.\n",
    "\n",
    "```\n",
    "for i in \"1234\":\n",
    "    print(i)\n",
    "```\n",
    "\n",
    "этот код распечатает:\n",
    "\n",
    "1\n",
    "\n",
    "2\n",
    "\n",
    "3\n",
    "\n",
    "4"
   ]
  },
  {
   "cell_type": "code",
   "execution_count": 19,
   "metadata": {
    "scrolled": false
   },
   "outputs": [
    {
     "name": "stdout",
     "output_type": "stream",
     "text": [
      "1234\n",
      "10\n"
     ]
    }
   ],
   "source": [
    "a = input()\n",
    "b = 0\n",
    "for i in a:\n",
    "    b += int(i)\n",
    "print(b)    "
   ]
  },
  {
   "cell_type": "markdown",
   "metadata": {},
   "source": [
    "## Задача для интереса. Флаги.\n",
    "\n",
    "\n",
    "Напишите программу, которая по данному числу n от 1 до 9 выводит на экран n флагов. Изображение одного флага имеет размер 4×4 символов, между двумя соседними флагами также имеется пустой (из пробелов) столбец. Разрешается вывести пустой столбец после последнего флага. Внутри каждого флага должен быть записан его номер — число от 1 до n.\n",
    "\n",
    "`Примеры`\n",
    "\n",
    "`входные данные`\n",
    "\n",
    "`3`\n",
    "\n",
    "`выходные данные`\n",
    "\n",
    "`+___ +___ +___ \n",
    "|1 / |2 / |3 / \n",
    "|__\\ |__\\ |__\\ \n",
    "|    |    |    `\n",
    "\n",
    "\n",
    "`входные данные`\n",
    "\n",
    "`3`\n",
    "\n",
    "`выходные данные`\n",
    "\n",
    "`+___ \n",
    "|1 / \n",
    "|__\\ \n",
    "| `"
   ]
  },
  {
   "cell_type": "code",
   "execution_count": 3,
   "metadata": {},
   "outputs": [
    {
     "name": "stdout",
     "output_type": "stream",
     "text": [
      "5\n",
      "+___ +___ +___ +___ +___ \n",
      "|1 / |2 / |3 / |4 / |5 / \n",
      "|__\\ |__\\ |__\\ |__\\ |__\\ \n",
      "|    |    |    |    |    \n"
     ]
    }
   ],
   "source": [
    "n = int(input())\n",
    "\n",
    "if n >= 1 and n < 9:\n",
    "    print(\"+___ \" * n)\n",
    "    \n",
    "    num_of_flags = \"\"\n",
    "    for i in range(1, n + 1):\n",
    "        num_of_flags += f\"|{i} / \"\n",
    "    print(num_of_flags)\n",
    "    print(\"|__\\ \" * n)\n",
    "    print(\"|    \" * n)\n",
    "else:\n",
    "    print(\"Error\")"
   ]
  }
 ],
 "metadata": {
  "kernelspec": {
   "display_name": "Python 3 (ipykernel)",
   "language": "python",
   "name": "python3"
  },
  "language_info": {
   "codemirror_mode": {
    "name": "ipython",
    "version": 3
   },
   "file_extension": ".py",
   "mimetype": "text/x-python",
   "name": "python",
   "nbconvert_exporter": "python",
   "pygments_lexer": "ipython3",
   "version": "3.8.10"
  }
 },
 "nbformat": 4,
 "nbformat_minor": 2
}
