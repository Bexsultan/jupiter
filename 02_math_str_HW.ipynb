{
 "cells": [
  {
   "cell_type": "markdown",
   "metadata": {
    "id": "yVe6RtTeeGg8"
   },
   "source": [
    "#### Пользователь вводит пароль для регистрации. Пароль сохраняется в переменной `Password`. По правилам безопасности сайт требует длину пароля не менее 7 символов. Проверьте удовлетворяет ли введенный пароль правилам?"
   ]
  },
  {
   "cell_type": "code",
   "execution_count": 11,
   "metadata": {
    "id": "miYhEsZTetP6",
    "scrolled": true
   },
   "outputs": [
    {
     "name": "stdout",
     "output_type": "stream",
     "text": [
      "Введите пароль: asdfghjk\n",
      "Welcome!\n"
     ]
    }
   ],
   "source": [
    "password = input('Введите пароль: ')\n",
    "if len(password) > 7:\n",
    "    print('Welcome!')\n",
    "else:\n",
    "    print('Error')\n"
   ]
  },
  {
   "cell_type": "markdown",
   "metadata": {
    "id": "cm7uaD2g2KU7"
   },
   "source": [
    "#### Друзья делят яблоки между собой. Напишите программу, которая вычислит:\n",
    "\n",
    "\n",
    "*   сколько целых яблок достанется каждому другу?\n",
    "*   сколько яблок останется не разделенными?\n",
    "*   по сколько получит каждый из друзей, если они начнут делить яблоки на части?\n",
    "\n",
    "На вход подаются два числа: количество друзей и яблок.\n",
    "\n",
    "На выходе должно быть три строки, каждая должна содержать ответ на поставленный вопрос.\n",
    "\n",
    "`входные данные:`\n",
    "\n",
    "`10` \n",
    "\n",
    "`8`\n",
    "\n",
    "`выходные данные:`\n",
    "\n",
    "`0`\n",
    "\n",
    "`8`\n",
    "\n",
    "`0.8`"
   ]
  },
  {
   "cell_type": "code",
   "execution_count": 1,
   "metadata": {
    "id": "LfMnFPf02GKG"
   },
   "outputs": [
    {
     "name": "stdout",
     "output_type": "stream",
     "text": [
      "Введите количество яблок: 10\n",
      "Введите количество друзей: 8\n",
      "0\n",
      "8\n",
      "0.8\n"
     ]
    }
   ],
   "source": [
    "a = int(input(\"Введите количество яблок: \"))\n",
    "f = int(input(\"Введите количество друзей: \"))\n",
    "print(f//a)\n",
    "print(f%a)\n",
    "print(f/a)"
   ]
  },
  {
   "cell_type": "markdown",
   "metadata": {
    "id": "TuFj-Bmu2rdx"
   },
   "source": [
    "#### Длина гипотенузы по заданным катетам треугольника. (Можно почитать [здесь](https://ru.wikipedia.org/wiki/%D0%93%D0%B8%D0%BF%D0%BE%D1%82%D0%B5%D0%BD%D1%83%D0%B7%D0%B0)).\n",
    "\n",
    "На вход подаются два числа - катеты треугольника `a`, `b`. Вычислите гипотенузу треугольника с заданными катетами с помощью теоремы Пифагора.\n",
    "\n",
    "$c^2 = a^2 + b^2$\n",
    "\n",
    "$c = \\sqrt{a^2 + b^2}$\n",
    "\n",
    "\n",
    "`входные данные:`\n",
    "\n",
    "`3` \n",
    "\n",
    "`4`\n",
    "\n",
    "`выходные данные:`\n",
    "\n",
    "`5.0`"
   ]
  },
  {
   "cell_type": "code",
   "execution_count": 2,
   "metadata": {
    "id": "waM8XuIDhgg8",
    "scrolled": true
   },
   "outputs": [
    {
     "name": "stdout",
     "output_type": "stream",
     "text": [
      "Введите первое число: 3\n",
      "Введите второе число: 4\n",
      "5.0\n"
     ]
    }
   ],
   "source": [
    "a = int(input('Введите первое число: '))\n",
    "b = int(input('Введите второе число: '))\n",
    "c = ((a**2)+(b**2))** (1/2)\n",
    "print(c)"
   ]
  },
  {
   "cell_type": "markdown",
   "metadata": {
    "id": "fNTyNTjEhnHp"
   },
   "source": [
    "#### Напишите программу, которая приветствует пользователя, выводя слово Hello, введенное имя и знаки препинания по образцу (см. пример входных и выходных данных). Программа должна считывать в строковую переменную значение и писать соответствующее приветствие.\n",
    "Обратите внимание, что после запятой должен обязательно стоять пробел, а перед восклицательным знаком пробела нет.\n",
    "\n",
    "**Примеры**\n",
    "\n",
    "`входные данные`\n",
    "\n",
    "`Harry`\n",
    "\n",
    "`выходные данные`\n",
    "\n",
    "`Hello, Harry!`"
   ]
  },
  {
   "cell_type": "code",
   "execution_count": 1,
   "metadata": {
    "id": "ZG1R72R6h2GT"
   },
   "outputs": [
    {
     "name": "stdout",
     "output_type": "stream",
     "text": [
      "Harry\n",
      "Hello, Harry!\n"
     ]
    }
   ],
   "source": [
    "a = input()\n",
    "print(f'Hello, {a}!')\n"
   ]
  },
  {
   "cell_type": "markdown",
   "metadata": {
    "id": "eqA4pjoViONm"
   },
   "source": [
    "#### Напишите программу, которая считывает целое число и выводит текст, аналогичный приведенному в примере\n",
    "\n",
    "`Входные данные`\n",
    "\n",
    "Вводится целое число.\n",
    "\n",
    "`Выходные данные`\n",
    "\n",
    "Выведите две строки, согласно образцу.\n",
    "\n",
    "**Примеры**\n",
    "\n",
    "`входные данные`\n",
    "\n",
    "`179`\n",
    "\n",
    "`выходные данные`\n",
    "\n",
    "`Последующее число после 179 это 180.`\n",
    "`Предыдущее число для числа 179 это 178.`"
   ]
  },
  {
   "cell_type": "code",
   "execution_count": 14,
   "metadata": {
    "id": "gJ4CRW0kip2y"
   },
   "outputs": [
    {
     "name": "stdout",
     "output_type": "stream",
     "text": [
      "Введите число: 179\n",
      "Последующее число после 179 это 180. Предыдущее число для числа 179 это 178.\n"
     ]
    }
   ],
   "source": []
  },
  {
   "cell_type": "markdown",
   "metadata": {
    "id": "DEfhE63ii22F"
   },
   "source": [
    "#### Дано трехзначное число. Найдите сумму его цифр.\n",
    "\n",
    "`Входные данные`\n",
    "\n",
    "Вводится целое положительное число.\n",
    "\n",
    "`Выходные данные`\n",
    "\n",
    "Выведите ответ на задачу.\n",
    "\n",
    "**Примеры**\n",
    "\n",
    "`входные данные`\n",
    "\n",
    "`179`\n",
    "\n",
    "`выходные данные`\n",
    "\n",
    "`17`\n",
    "\n",
    "`подсказка: 1+7+9 = 17`"
   ]
  },
  {
   "cell_type": "code",
   "execution_count": 2,
   "metadata": {
    "id": "5cOBcS0KjLC6",
    "scrolled": true
   },
   "outputs": [
    {
     "name": "stdout",
     "output_type": "stream",
     "text": [
      "179\n",
      "17\n"
     ]
    }
   ],
   "source": [
    "a = input()\n",
    "n1 = int(a[0:1])\n",
    "n2 = int(a[1:2])\n",
    "n3 = int(a[2:3])\n",
    "print(n1 + n2 + n3)"
   ]
  },
  {
   "cell_type": "code",
   "execution_count": null,
   "metadata": {},
   "outputs": [],
   "source": []
  }
 ],
 "metadata": {
  "colab": {
   "collapsed_sections": [
    "cm7uaD2g2KU7",
    "TuFj-Bmu2rdx"
   ],
   "name": "02_math_str_HW.ipynb",
   "provenance": []
  },
  "kernelspec": {
   "display_name": "Python 3 (ipykernel)",
   "language": "python",
   "name": "python3"
  },
  "language_info": {
   "codemirror_mode": {
    "name": "ipython",
    "version": 3
   },
   "file_extension": ".py",
   "mimetype": "text/x-python",
   "name": "python",
   "nbconvert_exporter": "python",
   "pygments_lexer": "ipython3",
   "version": "3.8.10"
  }
 },
 "nbformat": 4,
 "nbformat_minor": 1
}
