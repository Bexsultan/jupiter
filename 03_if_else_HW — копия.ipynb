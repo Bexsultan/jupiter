{
 "cells": [
  {
   "cell_type": "markdown",
   "metadata": {
    "id": "mhjTaPvl2TVe"
   },
   "source": [
    "#### 1. Электронные часы\n",
    "Дано число n. С начала суток прошло n минут. Определите, сколько часов и минут будут показывать электронные часы в этот момент.\n",
    "\n",
    "**Примеры**\n",
    "\n",
    "`входные данные`\n",
    "\n",
    "`150`\n",
    "\n",
    "`выходные данные`\n",
    "\n",
    "`2:30`\n",
    "\n",
    "`входные данные`\n",
    "\n",
    "`1441`\n",
    "\n",
    "`выходные данные`\n",
    "\n",
    "`0:1`"
   ]
  },
  {
   "cell_type": "code",
   "execution_count": 10,
   "metadata": {
    "colab": {
     "base_uri": "https://localhost:8080/"
    },
    "executionInfo": {
     "elapsed": 4716,
     "status": "ok",
     "timestamp": 1619183681109,
     "user": {
      "displayName": "Subanbek Atalov",
      "photoUrl": "",
      "userId": "10272066776599577598"
     },
     "user_tz": -360
    },
    "id": "GIXbs6lO2TVf",
    "outputId": "1387eff9-fdd0-4263-d925-051867b6433b"
   },
   "outputs": [
    {
     "name": "stdout",
     "output_type": "stream",
     "text": [
      "150\n",
      "2:30\n"
     ]
    }
   ],
   "source": [
    "n = int(input())\n",
    "h = n % (60 * 24) // 60\n",
    "m = n % 60\n",
    "print(f\"{h}:{m}\")"
   ]
  },
  {
   "cell_type": "markdown",
   "metadata": {
    "id": "4rakZ1Ps2TVg"
   },
   "source": [
    "#### 2. Прочитайте число. Выведите -1 если оно отрицательное, 1 если оно положительное. Если число равно 0, то выведите 0. \n",
    "\n",
    "**Примеры**\n",
    "\n",
    "`входные данные`\n",
    "\n",
    "`7`\n",
    "\n",
    "`выходные данные`\n",
    "\n",
    "`1`"
   ]
  },
  {
   "cell_type": "code",
   "execution_count": 13,
   "metadata": {
    "id": "_lXRPNd62TVg"
   },
   "outputs": [
    {
     "name": "stdout",
     "output_type": "stream",
     "text": [
      "7\n",
      "1\n"
     ]
    }
   ],
   "source": [
    "a = int(input())\n",
    "if a > 0:\n",
    "    print(1)\n",
    "elif a < 0:\n",
    "    print(-1)\n",
    "else:\n",
    "    print(0)"
   ]
  },
  {
   "cell_type": "markdown",
   "metadata": {
    "id": "ySt3IA_c2TVg"
   },
   "source": [
    "#### 3. Упорядочить три числа\n",
    "\n",
    "Дано три числа. Упорядочите их в порядке неубывания. Программа должна считывать три числа `a, b, c`, затем программа должна менять их значения так, чтобы стали выполнены условия `a <= b <= c`, затем программа выводит тройку `a, b, c`.\n",
    "\n",
    "**Примечание**\n",
    "\n",
    "Дополнительные ограничения: нельзя использовать дополнительные переменные (то есть единственной допустимой операцией присваивания является обмен значений двух переменных типа `(a, b) = (b, a)`.\n",
    "\n",
    "Программа должна содержать ровно один вызов функции печати результата.\n",
    "\n",
    "\n",
    "**Примеры**\n",
    "\n",
    "`входные данные`\n",
    "\n",
    "`1`\n",
    "\n",
    "`2`\n",
    "\n",
    "`1`\n",
    "\n",
    "`выходные данные`\n",
    "\n",
    "`1 1 2`"
   ]
  },
  {
   "cell_type": "code",
   "execution_count": 5,
   "metadata": {
    "colab": {
     "base_uri": "https://localhost:8080/"
    },
    "executionInfo": {
     "elapsed": 4804,
     "status": "ok",
     "timestamp": 1619184461150,
     "user": {
      "displayName": "Subanbek Atalov",
      "photoUrl": "",
      "userId": "10272066776599577598"
     },
     "user_tz": -360
    },
    "id": "-y1xKK262TVh",
    "outputId": "86bd5ba6-b5c1-48f4-d0a4-7d60ab9dcddf"
   },
   "outputs": [
    {
     "name": "stdout",
     "output_type": "stream",
     "text": [
      "1\n",
      "1\n",
      "2\n",
      "1 1 2\n"
     ]
    }
   ],
   "source": [
    "a, b, c = int(input()), int(input()), int(input())\n",
    "\n",
    "while True:\n",
    "    if b > c:\n",
    "        b, c = c, b\n",
    "    if a > b:\n",
    "        a, b = b, a\n",
    "    if a <= b and b <= c:\n",
    "        break\n",
    "print(a, b, c)"
   ]
  },
  {
   "cell_type": "markdown",
   "metadata": {
    "id": "EG8Exid32TVh"
   },
   "source": [
    "#### 4. Сколько совпадает чисел\n",
    "\n",
    "Даны три целых числа. Определите, сколько среди них совпадающих. Программа должна вывести одно из чисел: 3 (если все совпадают), 2 (если два совпадает) или 0 (если все числа различны).\n",
    "\n",
    "**Примеры**\n",
    "\n",
    "`входные данные`\n",
    "\n",
    "`1`\n",
    "\n",
    "`2`\n",
    "\n",
    "`1`\n",
    "\n",
    "`выходные данные`\n",
    "\n",
    "`2`"
   ]
  },
  {
   "cell_type": "code",
   "execution_count": 9,
   "metadata": {
    "id": "yRPO2Gkg2TVh"
   },
   "outputs": [
    {
     "name": "stdout",
     "output_type": "stream",
     "text": [
      "2\n",
      "3\n",
      "3\n",
      "\n",
      "2\n"
     ]
    }
   ],
   "source": [
    "a = int(input())\n",
    "b = int(input())\n",
    "c = int(input())\n",
    "print()\n",
    "if a == b == c:\n",
    "    print(3)\n",
    "elif a == b or b == c or a == c:\n",
    "    print(2)\n",
    "else:\n",
    "    print(1)"
   ]
  },
  {
   "cell_type": "markdown",
   "metadata": {
    "id": "FYaOT8Br2TVh"
   },
   "source": [
    "#### 5. Следующее четное\n",
    "\n",
    "Дано целое число n. Выведите следующее за ним четное число.\n",
    "\n",
    "**Примеры**\n",
    "\n",
    "`входные данные`\n",
    "\n",
    "`7`\n",
    "\n",
    "`выходные данные`\n",
    "\n",
    "`8`\n",
    "\n",
    "`входные данные`\n",
    "\n",
    "`8`\n",
    "\n",
    "`выходные данные`\n",
    "\n",
    "`10`"
   ]
  },
  {
   "cell_type": "code",
   "execution_count": 2,
   "metadata": {
    "id": "COIDtChS2TVh"
   },
   "outputs": [
    {
     "name": "stdout",
     "output_type": "stream",
     "text": [
      "7\n",
      "8\n"
     ]
    }
   ],
   "source": [
    "a = int(input())\n",
    "if a % 2 != 0:\n",
    "    print(a+1) \n",
    "else:\n",
    "    print(a+2)"
   ]
  },
  {
   "cell_type": "markdown",
   "metadata": {
    "id": "TZb-snmm2TVi"
   },
   "source": [
    "#### 6. Классическая задача \"Fizz Buzz\".\n",
    "\n",
    "Прочитайте число.\n",
    "Если число делится на 3 выведите \"Fizz\", если на 5 – \"Buzz\". Если число делится на 3 и на 5 одновременно, то – \"Fizz Buzz\". В противном случае выведите само число. \n",
    "\n",
    "Все слова выводятся без кавычек.\n",
    "\n",
    "**Примеры**\n",
    "\n",
    "`входные данные`\n",
    "\n",
    "`3`\n",
    "\n",
    "`выходные данные`\n",
    "\n",
    "`Fizz`\n",
    "\n",
    "`входные данные`\n",
    "\n",
    "`15`\n",
    "\n",
    "`выходные данные`\n",
    "\n",
    "`Fizz Buzz`"
   ]
  },
  {
   "cell_type": "code",
   "execution_count": 6,
   "metadata": {
    "id": "pZyh0hQu2TVi"
   },
   "outputs": [
    {
     "name": "stdout",
     "output_type": "stream",
     "text": [
      "15\n",
      "Fizz Buzz\n"
     ]
    }
   ],
   "source": [
    "a = int(input())\n",
    "if a % 3 == 0 and a % 5 == 0:\n",
    "    print('Fizz Buzz')\n",
    "elif a % 3 == 0:\n",
    "    print('Fizz')\n",
    "elif a % 5 == 0:\n",
    "    print('Buzz')\n",
    "    "
   ]
  }
 ],
 "metadata": {
  "colab": {
   "name": "03_if_else_HW.ipynb",
   "provenance": []
  },
  "kernelspec": {
   "display_name": "Python 3 (ipykernel)",
   "language": "python",
   "name": "python3"
  },
  "language_info": {
   "codemirror_mode": {
    "name": "ipython",
    "version": 3
   },
   "file_extension": ".py",
   "mimetype": "text/x-python",
   "name": "python",
   "nbconvert_exporter": "python",
   "pygments_lexer": "ipython3",
   "version": "3.8.10"
  }
 },
 "nbformat": 4,
 "nbformat_minor": 4
}
