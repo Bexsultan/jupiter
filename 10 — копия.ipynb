{
 "cells": [
  {
   "cell_type": "markdown",
   "metadata": {},
   "source": [
    "## 1. Создайте функцию которая принимает аргументом целое число и возвращает \"Четное\" если число четное или иначе \"Нечетное\".\n",
    "\n",
    "Вход:\n",
    "\n",
    "5\n",
    "\n",
    "Выход:\n",
    "\n",
    "Нечетное"
   ]
  },
  {
   "cell_type": "code",
   "execution_count": 10,
   "metadata": {},
   "outputs": [
    {
     "name": "stdout",
     "output_type": "stream",
     "text": [
      "5\n",
      "Нечётное\n"
     ]
    }
   ],
   "source": [
    "def nums(n):\n",
    "    if n % 2 == 0:\n",
    "        print('Чётное')\n",
    "    else:\n",
    "        print('Нечётное')\n",
    "nums(int(input()))"
   ]
  },
  {
   "cell_type": "markdown",
   "metadata": {},
   "source": [
    "## 2. Создайте функцию которая принимает аргументом список с числами, верните сумму четных чисел.\n",
    "\n",
    "Вход:\n",
    "\n",
    "[1, 2, 3, 4]\n",
    "\n",
    "Выход:\n",
    "\n",
    "6"
   ]
  },
  {
   "cell_type": "code",
   "execution_count": 43,
   "metadata": {},
   "outputs": [
    {
     "data": {
      "text/plain": [
       "6"
      ]
     },
     "execution_count": 43,
     "metadata": {},
     "output_type": "execute_result"
    }
   ],
   "source": [
    "def even(s): \n",
    "    return sum(x for x in s if x%2==0)\n",
    "even([1, 2, 3, 4])"
   ]
  },
  {
   "cell_type": "markdown",
   "metadata": {},
   "source": [
    "## 3. Создайте функцию которая принимает аргументом список с числами, верните список первый элемент которого  - количество положительных чисел, а второй элемент - сумма отрицательных чисел.\n",
    "\n",
    "Вход:\n",
    "\n",
    "[1, 2, 3, 4, 5, 6, 7, 8, 9, 10, -11, -12, -13, -14, -15]\n",
    "\n",
    "Выход:\n",
    "\n",
    "[10, -65]."
   ]
  },
  {
   "cell_type": "code",
   "execution_count": 41,
   "metadata": {},
   "outputs": [
    {
     "data": {
      "text/plain": [
       "[10, -65]"
      ]
     },
     "execution_count": 41,
     "metadata": {},
     "output_type": "execute_result"
    }
   ],
   "source": [
    "def numbers(arr):\n",
    "    summ = 0\n",
    "    count = 0\n",
    "    if (len(arr) == 0):\n",
    "        return []\n",
    "    for i in arr:\n",
    "        if i > 0:\n",
    "            count += 1\n",
    "        else:\n",
    "            summ = summ + i    \n",
    "    return [count,summ]\n",
    "numbers([1, 2,3, 4, 5, 6, 7, 8, 9, 10, -11, -12, -13, -14, -15])"
   ]
  },
  {
   "cell_type": "markdown",
   "metadata": {},
   "source": [
    "## 4. Фильтр чисел. Создайте функцию которая принимает аргументом список с числами и строками, верните список с числами, убрав строки.\n",
    "\n",
    "```\n",
    "filter_list([1,2,'a','b']) == [1,2]\n",
    "filter_list([1,'a','b',0,15]) == [1,0,15]\n",
    "filter_list([1,2,'aasf','1','123',123]) == [1,2,123]\n",
    "```"
   ]
  },
  {
   "cell_type": "code",
   "execution_count": 34,
   "metadata": {},
   "outputs": [
    {
     "data": {
      "text/plain": [
       "[1, 2]"
      ]
     },
     "execution_count": 34,
     "metadata": {},
     "output_type": "execute_result"
    }
   ],
   "source": [
    "def filter_list(l):\n",
    "    return[item for item in l if isinstance(item, int)]\n",
    "filter_list([1,2,'a','b'])"
   ]
  },
  {
   "cell_type": "markdown",
   "metadata": {},
   "source": [
    "## 5. Создайте функцию которая принимает аргументом целое число и возвращает число с обратным знаком.\n",
    "\n",
    "```\n",
    "1: -1\n",
    "14: -14\n",
    "-34: 34\n",
    "```"
   ]
  },
  {
   "cell_type": "code",
   "execution_count": 14,
   "metadata": {},
   "outputs": [
    {
     "name": "stdout",
     "output_type": "stream",
     "text": [
      "-34\n",
      "34\n"
     ]
    }
   ],
   "source": [
    "def nums(n):\n",
    "    if n > 0:\n",
    "        return -n\n",
    "    elif n < 0:\n",
    "        return abs(n)\n",
    "print(nums(int(input())))"
   ]
  },
  {
   "cell_type": "markdown",
   "metadata": {},
   "source": [
    "## 6. Создайте функцию которая принимает аргументом строку и возвращает новую строку без первого и последнего знака.\n",
    "\n",
    "Вход:\n",
    "\n",
    "Hello\n",
    "\n",
    "Выход:\n",
    "\n",
    "ell"
   ]
  },
  {
   "cell_type": "code",
   "execution_count": 19,
   "metadata": {},
   "outputs": [
    {
     "name": "stdout",
     "output_type": "stream",
     "text": [
      "Hello\n",
      "ell\n"
     ]
    }
   ],
   "source": [
    "def word(w):\n",
    "    return (w[1:-1])\n",
    "print(word(input()))"
   ]
  },
  {
   "cell_type": "markdown",
   "metadata": {},
   "source": [
    "## 7. Создайте функцию `accum` по аналогии входа и выхода в примере:\n",
    "```\n",
    "accum(\"abcd\") -> \"a-bb-ccc-dddd\"\n",
    "accum(\"RqaEzty\") -> \"R-qq-aaa-EEEE-zzzzz-tttttt-yyyyyyy\"\n",
    "accum(\"cwAt\") -> \"c-ww-AAA-tttt\"\n",
    "```"
   ]
  },
  {
   "cell_type": "code",
   "execution_count": 5,
   "metadata": {},
   "outputs": [
    {
     "data": {
      "text/plain": [
       "'RqqaaaEEEEzzzzzttttttyyyyyyy'"
      ]
     },
     "execution_count": 5,
     "metadata": {},
     "output_type": "execute_result"
    }
   ],
   "source": [
    "def accum(word):\n",
    "    new_word = ''\n",
    "    for i in range(len(word)):\n",
    "        new_word += word[i]*(i+1)\n",
    "    return new_word\n",
    "accum('RqaEzty')"
   ]
  },
  {
   "cell_type": "markdown",
   "metadata": {},
   "source": [
    "## 8. Изограмма - это слово, в котором нет повторяющихся букв. Создайте функцию `is_isogram`, которое проверяет является ли слово изограммой. \n",
    "\n",
    "```\n",
    "is_isogram(\"Dermatoglyphics\" ) == True\n",
    "is_isogram(\"aba\" ) == False\n",
    "is_isogram(\"moOse\" ) == False\n",
    "```"
   ]
  },
  {
   "cell_type": "code",
   "execution_count": 7,
   "metadata": {},
   "outputs": [
    {
     "data": {
      "text/plain": [
       "True"
      ]
     },
     "execution_count": 7,
     "metadata": {},
     "output_type": "execute_result"
    }
   ],
   "source": [
    "def is_isogram(string):\n",
    "    return len(set(string.lower())) == len(string)\n",
    "is_isogram(\"Dermatoglyphics\" )"
   ]
  },
  {
   "cell_type": "markdown",
   "metadata": {},
   "source": [
    "## 9. На вход функции подаются слова. Выведите самое короткое слово.\n",
    "\n",
    "```\n",
    "shortest_word(\"Привет как дела\" ) => \"как\"\n",
    "```"
   ]
  },
  {
   "cell_type": "code",
   "execution_count": 24,
   "metadata": {},
   "outputs": [
    {
     "name": "stdout",
     "output_type": "stream",
     "text": [
      "Привет как дела\n"
     ]
    },
    {
     "data": {
      "text/plain": [
       "'как'"
      ]
     },
     "execution_count": 24,
     "metadata": {},
     "output_type": "execute_result"
    }
   ],
   "source": [
    "def text(l):\n",
    "    return(min((word for word in l.split() if word), key=len))\n",
    "text(input())"
   ]
  },
  {
   "cell_type": "markdown",
   "metadata": {},
   "source": [
    "## 10. Маскировка номера карты. На вход функции подаются числа. Выведите только последние 4 цифры, заменив остальные символом `#`.\n",
    "\n",
    "```\n",
    "maskify(\"4556364607935616\") == \"############5616\"\n",
    "maskify(     \"64607935616\") ==      \"#######5616\"\n",
    "```"
   ]
  },
  {
   "cell_type": "code",
   "execution_count": 12,
   "metadata": {},
   "outputs": [
    {
     "name": "stdout",
     "output_type": "stream",
     "text": [
      "Enter passcode: 123456789\n"
     ]
    },
    {
     "data": {
      "text/plain": [
       "'#####6789'"
      ]
     },
     "execution_count": 12,
     "metadata": {},
     "output_type": "execute_result"
    }
   ],
   "source": [
    "def maskify() :\n",
    "    cc = input(\"Enter passcode: \")\n",
    "    mask = '#'*(len(cc)-4)\n",
    "    return mask + cc[-4:]\n",
    "maskify()"
   ]
  }
 ],
 "metadata": {
  "kernelspec": {
   "display_name": "Python 3 (ipykernel)",
   "language": "python",
   "name": "python3"
  },
  "language_info": {
   "codemirror_mode": {
    "name": "ipython",
    "version": 3
   },
   "file_extension": ".py",
   "mimetype": "text/x-python",
   "name": "python",
   "nbconvert_exporter": "python",
   "pygments_lexer": "ipython3",
   "version": "3.8.10"
  }
 },
 "nbformat": 4,
 "nbformat_minor": 4
}
