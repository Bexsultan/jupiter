{
 "cells": [
  {
   "cell_type": "markdown",
   "metadata": {},
   "source": [
    "### 1. На вход подается число от 0 до 1000.\n",
    "\n",
    "Если число от 0 до 99, программа должна вернуть \"Ваше число меньше 100\".\n",
    "\n",
    "Если число от 100 до 499, программа должна вернуть \"Ваше число меньше 500, но больше 100\".\n",
    "\n",
    "Если число от 500 до 1000, программа должна вернуть \"Ваше число меньше 1000, но больше 500\"."
   ]
  },
  {
   "cell_type": "code",
   "execution_count": 12,
   "metadata": {},
   "outputs": [
    {
     "name": "stdout",
     "output_type": "stream",
     "text": [
      "499\n",
      "Ваше число меньше 500, но больше 100\n"
     ]
    }
   ],
   "source": [
    "a = int(input())\n",
    "if a >= 0 and a <= 99:\n",
    "    print('Ваше число меньше 100')\n",
    "elif a >= 100 and a <= 499:\n",
    "    print('Ваше число меньше 500, но больше 100')\n",
    "elif a >= 500 and a <= 1000:\n",
    "    print('Ваше число меньше 1000, но больше 500')\n",
    "else:\n",
    "    print('На вход подается число от 0 до 1000')\n"
   ]
  },
  {
   "cell_type": "markdown",
   "metadata": {},
   "source": [
    "### 2. На вход подаются длина и ширина прямоугольника. Если они равны, выведите, что это квадрат. Иначе \"это прямоугольник\".\n",
    "\n",
    "**Пример**\n",
    "\n",
    "`input`\n",
    "\n",
    "`5`\n",
    "\n",
    "`3`\n",
    "\n",
    "`output`\n",
    "\n",
    "`\"Это прямоугольник\"`"
   ]
  },
  {
   "cell_type": "code",
   "execution_count": 1,
   "metadata": {},
   "outputs": [
    {
     "name": "stdout",
     "output_type": "stream",
     "text": [
      "5\n",
      "3\n",
      "Это прямоугольник\n"
     ]
    }
   ],
   "source": [
    "a = int(input())\n",
    "b = int(input())\n",
    "if a == b:\n",
    "    print('Это квадрат')\n",
    "else:\n",
    "    print('Это прямоугольник')"
   ]
  },
  {
   "cell_type": "markdown",
   "metadata": {},
   "source": [
    "### 3. Программа для выставления оценок. На вход подается количество баллов от 0 до 100. Выставите оценку по указанной ниже системе.\n",
    "\n",
    "Имеется следующая система выставления оценок:\n",
    "\n",
    "1. ниже 25 - F\n",
    "2. от 25 до 45 - E\n",
    "3. от 45 до 50 - D\n",
    "4. от 50 до 60 - C\n",
    "5. от 60 до 80 - B\n",
    "6. Выше 80 - A"
   ]
  },
  {
   "cell_type": "code",
   "execution_count": null,
   "metadata": {},
   "outputs": [],
   "source": [
    "a = int(input('Введите свой балл: '))\n",
    "if a <= 25:\n",
    "    print('Ваша оценка: F')\n",
    "elif a >= 25 and a <= 45:\n",
    "    print('Ваша оценка: E')\n",
    "elif a >= 45 and a < 50:\n",
    "    print('Ваша оценка: D')\n",
    "elif a > 50 and a < 60:\n",
    "    print('Ваша оценка: C')\n",
    "elif a > 60 and a < 80:\n",
    "    print('Ваша оценка: B')\n",
    "elif a > 80:\n",
    "    print('Ваша оценка: A')\n",
    "else:\n",
    "    print('Введи количество баллов от 0 до 100')"
   ]
  },
  {
   "cell_type": "markdown",
   "metadata": {},
   "source": [
    "### 4. Собака или кошка?\n",
    "\n",
    "На вход подается слово \"dog\" или \"cat\".\n",
    "\n",
    "Если \"dog\", выведите \"bark\"\n",
    "\n",
    "Если \"cat\", выведите \"meow\""
   ]
  },
  {
   "cell_type": "code",
   "execution_count": 2,
   "metadata": {},
   "outputs": [
    {
     "name": "stdout",
     "output_type": "stream",
     "text": [
      "dog\n",
      "bark\n"
     ]
    }
   ],
   "source": [
    "a = input()\n",
    "if a == 'dog':\n",
    "    print('bark')\n",
    "elif a == 'cat':\n",
    "    print('meow')\n",
    "else:\n",
    "    print('ошибочка, онли кэт и дог')"
   ]
  },
  {
   "cell_type": "markdown",
   "metadata": {},
   "source": [
    "### 5. На вход подается положительное число, определите четное оно или нечетное.\n",
    "\n",
    "**Пример**\n",
    "\n",
    "`input`\n",
    "\n",
    "`5`\n",
    "\n",
    "`output`\n",
    "\n",
    "`\"Это число нечетное\"`"
   ]
  },
  {
   "cell_type": "code",
   "execution_count": 13,
   "metadata": {},
   "outputs": [
    {
     "name": "stdout",
     "output_type": "stream",
     "text": [
      "Введите число: 5\n",
      "Это число нечетное\n"
     ]
    }
   ],
   "source": [
    "a = int(input('Введите число: '))\n",
    "if a % 2 == 0:\n",
    "    print('Это число четное')\n",
    "else:\n",
    "    print('Это число нечетное')"
   ]
  },
  {
   "cell_type": "markdown",
   "metadata": {},
   "source": [
    "### 6. Программа получает на вход последовательность целых неотрицательных чисел по одному. Последовательность завершается числом 0, при считывании которого программа должна закончить свою работу и вывести количество **нечетных** членов последовательности (не считая завершающего числа 0).\n",
    "\n",
    "**Пример**\n",
    "\n",
    "`input`\n",
    "\n",
    "`5`\n",
    "\n",
    "`2`\n",
    "\n",
    "`1`\n",
    "\n",
    "`0`\n",
    "\n",
    "`output`\n",
    "\n",
    "`2`"
   ]
  },
  {
   "cell_type": "code",
   "execution_count": 33,
   "metadata": {},
   "outputs": [
    {
     "name": "stdout",
     "output_type": "stream",
     "text": [
      "5\n",
      "2\n",
      "1\n",
      "0\n",
      "\n",
      "2\n"
     ]
    }
   ],
   "source": [
    "l = 0\n",
    "while (a := int(input()))!= 0:\n",
    "    if a % 2 != 0:\n",
    "        l += 1\n",
    "print()\n",
    "print(l)"
   ]
  },
  {
   "cell_type": "markdown",
   "metadata": {},
   "source": [
    "### 7.  На вход подается число, поменяйте знак числа и верните.\n",
    "Если оно положительно верните со знаком минус, если отрицательно без знака минус.\n",
    "\n",
    "**Пример**\n",
    "\n",
    "`input`\n",
    "\n",
    "`5`\n",
    "\n",
    "`output`\n",
    "\n",
    "`-5`\n",
    "\n",
    "`input`\n",
    "\n",
    "`-78`\n",
    "\n",
    "`output`\n",
    "\n",
    "`78`"
   ]
  },
  {
   "cell_type": "code",
   "execution_count": 23,
   "metadata": {},
   "outputs": [
    {
     "name": "stdout",
     "output_type": "stream",
     "text": [
      "5\n",
      "-5\n"
     ]
    }
   ],
   "source": [
    "x = int(input())\n",
    "if x > 0:\n",
    "    print(-x)\n",
    "elif x < 0:\n",
    "    print(abs(x))"
   ]
  },
  {
   "cell_type": "markdown",
   "metadata": {},
   "source": [
    "### 8.  Программа получает на вход последовательность целых неотрицательных чисел по одному. Последовательность завершается числом 0, при считывании которого программа должна закончить свою работу и вывести максимальное и минимальное число в последовательности (не считая завершающего числа 0).\n",
    "\n",
    "**Пример**\n",
    "\n",
    "`input`\n",
    "\n",
    "`5`\n",
    "\n",
    "`2`\n",
    "\n",
    "`1`\n",
    "\n",
    "`3`\n",
    "\n",
    "`0`\n",
    "\n",
    "`output`\n",
    "\n",
    "`максимум: 5`\n",
    "\n",
    "`минимум: 1`"
   ]
  },
  {
   "cell_type": "code",
   "execution_count": 4,
   "metadata": {},
   "outputs": [
    {
     "name": "stdout",
     "output_type": "stream",
     "text": [
      "5\n",
      "2\n",
      "1\n",
      "3\n",
      "0\n",
      "\n",
      "5\n",
      "1\n"
     ]
    }
   ],
   "source": [
    "l = []\n",
    "while True:\n",
    "    a = int(input())\n",
    "    if a == 0:\n",
    "        break\n",
    "    else:\n",
    "        l.append(a)\n",
    "print()\n",
    "print(max(l))\n",
    "print(min(l))"
   ]
  },
  {
   "cell_type": "markdown",
   "metadata": {},
   "source": [
    "### 9. На вход подается 1 или 0. Выведите `True` если 1, иначе `False`.\n",
    "\n",
    "**Пример**\n",
    "\n",
    "`input`\n",
    "\n",
    "`0`\n",
    "\n",
    "`output`\n",
    "\n",
    "`False`"
   ]
  },
  {
   "cell_type": "code",
   "execution_count": 2,
   "metadata": {},
   "outputs": [
    {
     "name": "stdout",
     "output_type": "stream",
     "text": [
      "0\n",
      "False\n"
     ]
    }
   ],
   "source": [
    "a = int(input())\n",
    "if a == 0:\n",
    "    print('False')\n",
    "elif a == 1:\n",
    "    print('True')\n",
    "else:\n",
    "    print('Введите число 1 или 0!!!')"
   ]
  },
  {
   "cell_type": "markdown",
   "metadata": {},
   "source": [
    "### 10. На вход подается целое положительное число. Напечатайте столько же раз слово \"hi\"\n",
    "\n",
    "**Пример**\n",
    "\n",
    "`input`\n",
    "\n",
    "`5`\n",
    "\n",
    "`output`\n",
    "\n",
    "`hi hi hi hi hi`"
   ]
  },
  {
   "cell_type": "code",
   "execution_count": 26,
   "metadata": {},
   "outputs": [
    {
     "name": "stdout",
     "output_type": "stream",
     "text": [
      "5\n",
      "hi hi hi hi hi "
     ]
    }
   ],
   "source": [
    "a = int(input())\n",
    "for i in range(a):\n",
    "    print('hi', end=' ')"
   ]
  },
  {
   "cell_type": "markdown",
   "metadata": {},
   "source": [
    "###  11. Программа получает на вход последовательность целых неотрицательных чисел по одному. Последовательность завершается числом 0, при считывании которого программа должна закончить свою работу и вывести числа в ряд без пробела (не считая завершающего числа 0).\n",
    "\n",
    "**Пример**\n",
    "\n",
    "`input`\n",
    "\n",
    "`5`\n",
    "\n",
    "`2`\n",
    "\n",
    "`1`\n",
    "\n",
    "`3`\n",
    "\n",
    "`0`\n",
    "\n",
    "`output`\n",
    "\n",
    "`5213`\n"
   ]
  },
  {
   "cell_type": "code",
   "execution_count": 7,
   "metadata": {},
   "outputs": [
    {
     "name": "stdout",
     "output_type": "stream",
     "text": [
      "5\n",
      "3\n",
      "2\n",
      "1\n",
      "0\n",
      "\n",
      "5321"
     ]
    }
   ],
   "source": [
    "l = []\n",
    "while True:\n",
    "    a = int(input())\n",
    "    if a == 0:\n",
    "        break\n",
    "    else:\n",
    "        l.append(a)\n",
    "print()\n",
    "for i in l:\n",
    "    print(i,end='')"
   ]
  },
  {
   "cell_type": "markdown",
   "metadata": {},
   "source": [
    "### 12. Банковские вклады\n",
    "\n",
    "Вклад в банке составляет `x` рублей. Ежегодно он увеличивается на 10 процентов. Определите, через сколько лет вклад составит не менее `y` рублей.\n",
    "\n",
    "На вход подается:\n",
    "\n",
    "`x` - сколько мы положили в начале\n",
    "\n",
    "`y` - минимум сколько мы хотим получить."
   ]
  },
  {
   "cell_type": "code",
   "execution_count": 24,
   "metadata": {},
   "outputs": [
    {
     "name": "stdout",
     "output_type": "stream",
     "text": [
      "Сколько хотите положить: 1000\n",
      "Сколько хотите вывести: 1500\n",
      "Потребуется подождать 5 лет\n"
     ]
    }
   ],
   "source": [
    "x = int(input('Сколько хотите положить: '))\n",
    "y = int(input('Сколько хотите вывести: '))\n",
    "year = 0\n",
    "\n",
    "while x<y:\n",
    "    x += x*0.1\n",
    "    year += 1\n",
    "print(f\"Потребуется подождать {year} лет\")"
   ]
  },
  {
   "cell_type": "markdown",
   "metadata": {},
   "source": [
    "### 13. Среднее значение последовательности.\n",
    "\n",
    "Определите среднее значение всех элементов последовательности, завершающейся числом 0.\n",
    "\n",
    "`Входные данные`\n",
    "\n",
    "Вводится последовательность целых чисел, оканчивающаяся числом 0 (само число 0 в последовательность не входит, а служит как признак ее окончания.\n",
    "\n",
    "`Выходные данные`\n",
    "\n",
    "Выведите ответ на задачу.\n",
    "\n",
    "`Примеры`\n",
    "\n",
    "`входные данные`\n",
    "\n",
    "`1`\n",
    "\n",
    "`7`\n",
    "\n",
    "`9`\n",
    "\n",
    "`0`\n",
    "\n",
    "`выходные данные`\n",
    "\n",
    "`5.66666666667`\n",
    "\n",
    "\n",
    "`hint: (1+7+9) / 3 = 5.6667`"
   ]
  },
  {
   "cell_type": "code",
   "execution_count": 29,
   "metadata": {},
   "outputs": [
    {
     "name": "stdout",
     "output_type": "stream",
     "text": [
      "1\n",
      "7\n",
      "9\n",
      "0\n",
      "5.666666666666667\n"
     ]
    }
   ],
   "source": [
    "a = 0\n",
    "b = int(input())\n",
    "с = 0\n",
    "while b != 0:\n",
    "    a += b\n",
    "    с += 1\n",
    "    b = int(input())\n",
    "print(a/с)"
   ]
  },
  {
   "cell_type": "markdown",
   "metadata": {},
   "source": [
    "### 14. Список квадратов\n",
    "\n",
    "По данному целому числу N распечатайте все квадраты натуральных чисел, не превосходящие N, в порядке возрастания.\n",
    "\n",
    "`Входные данные`\n",
    "\n",
    "`50`\n",
    "\n",
    "`Выходные данные`\n",
    "\n",
    "`1 4 9 16 25 36 49`"
   ]
  },
  {
   "cell_type": "code",
   "execution_count": 22,
   "metadata": {},
   "outputs": [
    {
     "name": "stdout",
     "output_type": "stream",
     "text": [
      "50\n",
      "1 4 9 16 25 36 49 "
     ]
    }
   ],
   "source": [
    "n = int(input())\n",
    "x = 1\n",
    "for i in range(1, n + 1):\n",
    "    x = i ** 2\n",
    "    if n > x:\n",
    "        print(x, end=' ')"
   ]
  },
  {
   "cell_type": "markdown",
   "metadata": {},
   "source": [
    "### 15. Игра, угадай число (улучшение).\n",
    "\n",
    "Напишите ту же игру угадай число, но теперь угадываемое число будет случайным от 0 до 100 (используйте код ниже для генерации случайного числа)."
   ]
  },
  {
   "cell_type": "code",
   "execution_count": null,
   "metadata": {},
   "outputs": [],
   "source": [
    "import random\n",
    "\n",
    "myNumber = random.randint(0, 100)\n",
    "attempts = 3\n",
    "for _ in range(attempts):\n",
    "    number = int(input(\"Угадай число: \"))\n",
    "    if number == myNumber:\n",
    "        print(\"Угадал!\")\n",
    "        break\n",
    "else:\n",
    "    print(\"Ты исчерпал все попытки!\")"
   ]
  }
 ],
 "metadata": {
  "kernelspec": {
   "display_name": "Python 3 (ipykernel)",
   "language": "python",
   "name": "python3"
  },
  "language_info": {
   "codemirror_mode": {
    "name": "ipython",
    "version": 3
   },
   "file_extension": ".py",
   "mimetype": "text/x-python",
   "name": "python",
   "nbconvert_exporter": "python",
   "pygments_lexer": "ipython3",
   "version": "3.8.10"
  }
 },
 "nbformat": 4,
 "nbformat_minor": 4
}
